{
  "cells": [
    {
      "cell_type": "markdown",
      "metadata": {
        "id": "rL70m2sic0jV"
      },
      "source": [
        "# <center> Homework 1 </center>"
      ]
    },
    {
      "cell_type": "markdown",
      "metadata": {
        "id": "JVd5jRlPc0jY"
      },
      "source": [
        "# 0. Где мы сейчас?\n",
        "<img src=\"https://upload.wikimedia.org/wikipedia/commons/thumb/3/38/Jupyter_logo.svg/1200px-Jupyter_logo.svg.png\" width=\"150\">\n",
        "\n",
        "[Jupyter Notebook](https://jupyter.org/) - интерактивная среда для запуска программного кода в браузере. Удобный инструмент для анализа данных, который используется многими специалистами по data science. Позволяет выполнять отдельные ячейки с кодом, а не всю программу сразу, что очень удобно при знакомстве с данными."
      ]
    },
    {
      "cell_type": "markdown",
      "metadata": {
        "id": "k8hj3Kdvc0jZ"
      },
      "source": [
        "# 1. Python\n",
        "> Python - это свободный интерпретируемый объектно-ориентированный расширяемый встраиваемый язык программирования очень высокого уровня\n",
        "\n",
        ">*(Г.Россум, Ф.Л.Дж.Дрейк, Д.С.Откидач \"Язык программирования Python\").*\n",
        "\n",
        "А если без цитат, то питон - это просто очень крутой язык, созданный в 1991 году [Великодушным пожизненным диктатором](https://ru.wikipedia.org/wiki/%D0%92%D0%B5%D0%BB%D0%B8%D0%BA%D0%BE%D0%B4%D1%83%D1%88%D0%BD%D1%8B%D0%B9_%D0%BF%D0%BE%D0%B6%D0%B8%D0%B7%D0%BD%D0%B5%D0%BD%D0%BD%D1%8B%D0%B9_%D0%B4%D0%B8%D0%BA%D1%82%D0%B0%D1%82%D0%BE%D1%80) Гвидо ван Россумом и названный в честь любимого им шоу [Monty Python's Flying Circus](https://en.wikipedia.org/wiki/Monty_Python%27s_Flying_Circus)\n",
        "\n",
        "<img src=\"https://advancelocal-adapter-image-uploads.s3.amazonaws.com/image.oregonlive.com/home/olive-media/width2048/img/tv/photo/2018/10/10/montycastjpg-7ef393e2355a42aa.jpg\" width=\"300\">"
      ]
    },
    {
      "cell_type": "markdown",
      "metadata": {
        "id": "llQ9RXHfc0ja"
      },
      "source": [
        "# 2. Anaconda\n",
        "\n",
        "[Сборка Anaconda](https://www.anaconda.com/products/individual) включает очень много полезных библиотек для анализа данных.\n",
        "\n",
        "Среди наиболее популярных библиотек:\n",
        " - <a href=\"http://numpy.org\">Numpy</a> - это один из основных пакетов для математических вычислений. Он содержит средства для работы с многомерными массивами и высокоуровневыми математическими функциями\n",
        " - <a href=\"https://www.scipy.org/\">SciPy</a> - научные вычисления. Методы оптимизации, интегрирования, модули обработки сигналов и изображений, статистика, линейная алгебра, сплайны, кластеризация и многое другое\n",
        " -  <a href=\"http://pandas.pydata.org/\">Pandas</a> - основная библиотека для обработки и анализа данных. Предназначена для данных разной природы - матричных, панельных данных, временных рядов. Претендует на звание самого мощного и гибкого средства для анализа данных с открытым исходным кодом\n",
        " - <a href=\"http://scikit-learn.org/stable/\">Scikit-learn</a> - реализация очень многих методов машинного обучения с отличной документацией.\n",
        " - <a href=\"http://http://matplotlib.org/\">matplotlib</a> - хорошая библиотека для визуализации данных\n",
        "\n",
        " С этими библиотеками вы будете знакомится дальше на курсе, а пока давайте попрактикуемся в решении базовых задач на  чистом Python."
      ]
    },
    {
      "cell_type": "markdown",
      "metadata": {
        "id": "rfAcLe-Tc0ja"
      },
      "source": [
        "# 3. Задачки"
      ]
    },
    {
      "cell_type": "markdown",
      "metadata": {
        "id": "y7gWqyZpc0jb"
      },
      "source": [
        "## Задача 1\n",
        "$N$ хоббитов делят $K$ кусков эльфийского хлеба поровну, не делящийся нацело остаток остается в корзинке у Сэма. Напишите функцию, которая принимает на вход параметры $N$ и $K$ и возвращает два числа: $x$ - cколько кусков эльфиского хлеба достанется каждому хоббиту, и $y$ - сколько кусков остаётся в корзинке."
      ]
    },
    {
      "cell_type": "code",
      "execution_count": null,
      "metadata": {
        "id": "m9mteFtwc0jb"
      },
      "outputs": [],
      "source": [
        "def share_bread(N, K):\n",
        "    x = K/N\n",
        "    y = (x - int(x)) * N\n",
        "    return int(x), round(y)  \n",
        "\n",
        "# если в функции всё верно, то после выполнения этой строчки, не должно выскакивать ошибок\n",
        "assert share_bread(N=3, K=23) == (7, 2)"
      ]
    },
    {
      "cell_type": "markdown",
      "metadata": {
        "id": "i24Th8I7c0jc"
      },
      "source": [
        "## Задача 2\n",
        "\n",
        "В копях Мории хоббиты нашли стену, на которой высечены разные натуральные числа. Согласно древним сказаниям, это даты сражений. Хоббиты знают, что сражения происходили только по високосным годам. Помогите хоббитам определить, является ли год с данным числом датой великого сражения. Если это так, то верните строку \"YOU SHALL PASS\", иначе верните \"YOU SHALL NOT PASS\". Напомним, что в соответствии с хоббитским календарем, год является високосным, если его номер кратен 4, но не кратен 100, а также если он кратен 400."
      ]
    },
    {
      "cell_type": "code",
      "execution_count": 30,
      "metadata": {
        "id": "3SnU33pPc0jc"
      },
      "outputs": [],
      "source": [
        "import calendar\n",
        "def leap_year(year):\n",
        "    if calendar.isleap(year):\n",
        "        return \"YOU SHALL PASS\"\n",
        "    return \"YOU SHALL NOT PASS\"\n",
        "\n",
        "assert leap_year(1900) == 'YOU SHALL NOT PASS'"
      ]
    },
    {
      "cell_type": "markdown",
      "metadata": {
        "id": "-oibBIG4c0jd"
      },
      "source": [
        "## Задача 3\n",
        "<img src=\"http://i0.kym-cdn.com/photos/images/original/001/187/255/5e9.gif\" width=300>\n",
        "\n",
        "\n",
        "Для могущественного магического ритуала Гендальфу необходимо быстро подсчитывать площадь своего амулета, который умеет менять размеры. Известно, что амулет имеет форму треугольника и Гендальф знает длину каждой из сторон. Напишите функцию, которая считает площадь амулета по трем сторонам.  \n",
        "\n",
        "**Подсказка:** используйте формулу Герона\n",
        "$$ S = \\sqrt{p(p-a)(p-b)(p-c)} $$\n",
        "$$ p = \\frac{a + b + c}{2}$$\n"
      ]
    },
    {
      "cell_type": "code",
      "execution_count": 5,
      "metadata": {
        "id": "Uln7wcTVc0jd"
      },
      "outputs": [],
      "source": [
        "import math\n",
        "def amulet_area(a, b, c):\n",
        "    p = (a+b+c)/2\n",
        "    S = math.sqrt(p*(p-a)*(p-b)*(p-c))\n",
        "    return S\n",
        "\n",
        "assert amulet_area(3, 4, 5) == 6\n"
      ]
    },
    {
      "cell_type": "markdown",
      "metadata": {
        "id": "Os5KM6bQc0jd"
      },
      "source": [
        "## Задача 4\n",
        "\n",
        "Хоббиты собираются пешком идти до Мордора и им нужно подсчитать расстояние, которое им предстоит пройти. Хоббиты смогли вспомнить сразу несколько метрик расстояния: евклидово, манхэттена и косинусное, так что ваша задача - написать функцию под каждую из них. Важное условие - используйте только базовые функции для решения.\n",
        "\n",
        "\n",
        "* Евклидово расстояние\n",
        "$$ d(a, b) = \\sqrt{\\sum_i (a_i - b_i)^2} $$\n",
        "* Расстояние Манхэттена\n",
        "$$ d(a, b) = \\sum_i |a_i - b_i| $$\n",
        "* Косинусное расстояние\n",
        "$$ d(a, b) = 1 - \\frac{a^\\top b}{||a||_2\\cdot||b||_2}$$"
      ]
    },
    {
      "cell_type": "code",
      "execution_count": 9,
      "metadata": {
        "id": "_21LOuZRc0jd"
      },
      "outputs": [
        {
          "name": "stdout",
          "output_type": "stream",
          "text": [
            "Collecting numpy\n",
            "  Downloading numpy-2.2.6-cp312-cp312-macosx_14_0_x86_64.whl.metadata (62 kB)\n",
            "Downloading numpy-2.2.6-cp312-cp312-macosx_14_0_x86_64.whl (6.6 MB)\n",
            "\u001b[2K   \u001b[90m━━━━━━━━━━━━━━━━━━━━━━━━━━━━━━━━━━━━━━━━\u001b[0m \u001b[32m6.6/6.6 MB\u001b[0m \u001b[31m4.3 MB/s\u001b[0m eta \u001b[36m0:00:00\u001b[0ma \u001b[36m0:00:01\u001b[0m\n",
            "\u001b[?25hInstalling collected packages: numpy\n",
            "Successfully installed numpy-2.2.6\n",
            "\n",
            "\u001b[1m[\u001b[0m\u001b[34;49mnotice\u001b[0m\u001b[1;39;49m]\u001b[0m\u001b[39;49m A new release of pip is available: \u001b[0m\u001b[31;49m25.1\u001b[0m\u001b[39;49m -> \u001b[0m\u001b[32;49m25.1.1\u001b[0m\n",
            "\u001b[1m[\u001b[0m\u001b[34;49mnotice\u001b[0m\u001b[1;39;49m]\u001b[0m\u001b[39;49m To update, run: \u001b[0m\u001b[32;49mpip install --upgrade pip\u001b[0m\n",
            "Note: you may need to restart the kernel to use updated packages.\n"
          ]
        }
      ],
      "source": [
        "%pip install numpy\n",
        "def cal_euclidean(a, b):\n",
        "    sum_of_squares = 0\n",
        "    \n",
        "    # Проходим по всем индексам координат\n",
        "    for a_i, b_i in zip(a, b):\n",
        "        # Находим разницу по координате\n",
        "        diff = a_i - b_i\n",
        "        # Возводим разницу в квадрат и добавляем к сумме\n",
        "        sum_of_squares += diff * diff  # то же самое, что (diff) ** 2\n",
        "    \n",
        "    # Возводим сумму в степень 0.5 (эквивалент взятию корня)\n",
        "    distance = sum_of_squares ** 0.5\n",
        "    return distance\n",
        "\n",
        "def cal_manhattan(a, b):\n",
        "    distance = 0\n",
        "    \n",
        "    for a_i, b_i in zip(a, b):\n",
        "        distance += abs(a_i - b_i)\n",
        "    return distance\n",
        "\n",
        "def cal_cosine(a, b):\n",
        "    def dot_product(vec1, vec2):\n",
        "        return sum(x * y for x, y in zip(vec1, vec2))\n",
        "\n",
        "    def norm(vec):\n",
        "        return sum(x ** 2 for x in vec) ** 0.5\n",
        "    \n",
        "    dp = dot_product(a, b)\n",
        "    norm_a = norm(a)\n",
        "    norm_b = norm(b)\n",
        "\n",
        "    cosine_similarity = dp / (norm_a * norm_b)\n",
        "    distance = 1 - cosine_similarity\n",
        "\n",
        "    return distance"
      ]
    },
    {
      "cell_type": "code",
      "execution_count": 10,
      "metadata": {
        "id": "fvyqAKchc0je"
      },
      "outputs": [
        {
          "name": "stdout",
          "output_type": "stream",
          "text": [
            "22.516660498395403\n",
            "57\n",
            "0.8586021940832653\n"
          ]
        }
      ],
      "source": [
        "import numpy as np\n",
        "a = np.random.randint(-10, 10, size=10)\n",
        "b = np.random.randint(-10, 10, size=10)\n",
        "print(cal_euclidean(a, b))\n",
        "print(cal_manhattan(a, b))\n",
        "print(cal_cosine(a, b))"
      ]
    },
    {
      "cell_type": "markdown",
      "metadata": {
        "id": "w1L3GDw3c0je"
      },
      "source": [
        "## Задача 5* (бонусное неоцениваемое задание)\n",
        "\n",
        "**Замечание:** Поскольку библиотеку numpy мы будем подробно разбирать дальше, то это задание является бонусным, его выполнение необязательно для сдачи ДЗ и не влияет на итоговый балл. Как вариант, можете вернуться к нему после прохождения numpy ;)\n",
        "\n"
      ]
    },
    {
      "cell_type": "markdown",
      "metadata": {
        "id": "aEDIBiRpc0je"
      },
      "source": [
        "Создайте случайный array (`np.random.rand()`) длинной 100. Преобразуйте его так, чтобы\n",
        "* Максимальный элемент(ы) был равен 1\n",
        "* Минимальный элемент(ы) был равен 0\n",
        "* Остальные элементы в интервале от 0 до 1 остаются прежними"
      ]
    },
    {
      "cell_type": "code",
      "execution_count": 22,
      "metadata": {
        "id": "AFye6XzXc0je"
      },
      "outputs": [
        {
          "name": "stdout",
          "output_type": "stream",
          "text": [
            "0.9995429026754693 0.029787324876009214\n",
            "[0.58078184 0.48332376 0.72447501 0.79568585 0.58143115 0.30419598\n",
            " 0.73751947 0.93487164 0.34786543 0.33132339 0.43916767 0.84034411\n",
            " 0.24529924 0.64355823 0.45027384 0.9995429  0.80200959 0.69403038\n",
            " 0.17178307 0.2173341  0.72065728 0.22793738 0.0888774  0.68049952\n",
            " 0.56670366 0.4770241  0.49470766 0.89584135 0.63904304 0.58498037\n",
            " 0.84101127 0.95223947 0.70431754 0.42460293 0.23099529 0.71671687\n",
            " 0.95843715 0.1630719  0.45355517 0.40429936 0.95021523 0.86453487\n",
            " 0.37854038 0.50679743 0.15993275 0.5454927  0.50958631 0.0372615\n",
            " 0.03463683 0.25705463 0.72186551 0.12512391 0.22754    0.96256012\n",
            " 0.16276208 0.86198124 0.26911659 0.53962431 0.31551985 0.14747334\n",
            " 0.34576163 0.78907381 0.83803884 0.80734821 0.73614132 0.02978732\n",
            " 0.49496529 0.31673838 0.7627975  0.1644493  0.61581053 0.16604492\n",
            " 0.40784476 0.8830158  0.83216153 0.37828881 0.66707452 0.51665672\n",
            " 0.71386036 0.32024832 0.39856489 0.68159965 0.55462108 0.69344657\n",
            " 0.2760804  0.8885733  0.67174501 0.74578131 0.48681043 0.83740311\n",
            " 0.45544353 0.07298849 0.28312485 0.86989078 0.43234831 0.67051152\n",
            " 0.92675555 0.4767121  0.06901819 0.98433688]\n"
          ]
        }
      ],
      "source": [
        "my_array = np.random.rand(100)\n",
        "print(np.max(my_array), np.min(my_array))\n",
        "print(my_array)"
      ]
    },
    {
      "cell_type": "markdown",
      "metadata": {
        "id": "D84Jpwmmc0je"
      },
      "source": [
        "Создайте array размером $5 \\times 6$ с целыми числами в интервале [0,50]. Напечатайте колонку, которая содержит максимальный элемент полученной матрицы"
      ]
    },
    {
      "cell_type": "code",
      "execution_count": 25,
      "metadata": {
        "id": "SXaKW9bec0je"
      },
      "outputs": [
        {
          "name": "stdout",
          "output_type": "stream",
          "text": [
            "Shape:  (5, 6)\n",
            "Array\n",
            "[[17 14 21  7 38 48]\n",
            " [41 27 35 49  9 31]\n",
            " [14 47  8 10 35  1]\n",
            " [49 45 45  0 20 25]\n",
            " [ 1 19 18 18 14 28]]\n",
            "49\n"
          ]
        }
      ],
      "source": [
        "my_array = np.random.randint(0, 50, size=(5,6))\n",
        "selected_column = np.max(my_array)\n",
        "print('Shape: ',my_array.shape)\n",
        "print('Array')\n",
        "print(my_array)\n",
        "print(selected_column)"
      ]
    },
    {
      "cell_type": "markdown",
      "metadata": {
        "id": "g3scUf0_c0je"
      },
      "source": [
        "Напишите функцию, которая принимает на вход матрицу (array) X и возвращает все её уникальные строки в виде новой матрицы."
      ]
    },
    {
      "cell_type": "code",
      "execution_count": null,
      "metadata": {
        "id": "75j1Kyzvc0je"
      },
      "outputs": [],
      "source": [
        "def get_unique_rows(X):\n",
        "    x = [tuple(x) for x in X]\n",
        "    y = set(x)\n",
        "    X_unique = np.array([list(i) for i in y])\n",
        "    return X_unique"
      ]
    },
    {
      "cell_type": "code",
      "execution_count": 73,
      "metadata": {
        "id": "HzY-9KwGc0je"
      },
      "outputs": [
        {
          "name": "stdout",
          "output_type": "stream",
          "text": [
            "[[4 5 4]\n",
            " [5 4 5]\n",
            " [5 4 5]\n",
            " [4 5 4]\n",
            " [4 5 5]\n",
            " [5 5 4]\n",
            " [4 4 4]\n",
            " [5 4 4]\n",
            " [5 5 4]\n",
            " [4 5 5]]\n"
          ]
        }
      ],
      "source": [
        "X = np.random.randint(4, 6, size=(10,3))\n",
        "print(X)"
      ]
    },
    {
      "cell_type": "code",
      "execution_count": 74,
      "metadata": {
        "id": "UiAM62AGc0jf"
      },
      "outputs": [
        {
          "data": {
            "text/plain": [
              "{(np.int64(4), np.int64(4), np.int64(4)),\n",
              " (np.int64(4), np.int64(5), np.int64(4)),\n",
              " (np.int64(4), np.int64(5), np.int64(5)),\n",
              " (np.int64(5), np.int64(4), np.int64(4)),\n",
              " (np.int64(5), np.int64(4), np.int64(5)),\n",
              " (np.int64(5), np.int64(5), np.int64(4))}"
            ]
          },
          "execution_count": 74,
          "metadata": {},
          "output_type": "execute_result"
        }
      ],
      "source": [
        "get_unique_rows(X)"
      ]
    }
  ],
  "metadata": {
    "colab": {
      "provenance": []
    },
    "kernelspec": {
      "display_name": ".venv",
      "language": "python",
      "name": "python3"
    },
    "language_info": {
      "codemirror_mode": {
        "name": "ipython",
        "version": 3
      },
      "file_extension": ".py",
      "mimetype": "text/x-python",
      "name": "python",
      "nbconvert_exporter": "python",
      "pygments_lexer": "ipython3",
      "version": "3.12.9"
    },
    "varInspector": {
      "cols": {
        "lenName": 16,
        "lenType": 16,
        "lenVar": 40
      },
      "kernels_config": {
        "python": {
          "delete_cmd_postfix": "",
          "delete_cmd_prefix": "del ",
          "library": "var_list.py",
          "varRefreshCmd": "print(var_dic_list())"
        },
        "r": {
          "delete_cmd_postfix": ") ",
          "delete_cmd_prefix": "rm(",
          "library": "var_list.r",
          "varRefreshCmd": "cat(var_dic_list()) "
        }
      },
      "types_to_exclude": [
        "module",
        "function",
        "builtin_function_or_method",
        "instance",
        "_Feature"
      ],
      "window_display": false
    }
  },
  "nbformat": 4,
  "nbformat_minor": 0
}
